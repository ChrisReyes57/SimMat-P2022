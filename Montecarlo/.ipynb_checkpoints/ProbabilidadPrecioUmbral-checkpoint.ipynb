{
 "cells": [
  {
   "cell_type": "markdown",
   "metadata": {},
   "source": [
    "# Aplicando Python para análisis de precios: simulación de escenarios futuros de precios\n",
    "\n",
    "<img style=\"float: right; margin: 0px 0px 15px 15px;\" src=\"https://upload.wikimedia.org/wikipedia/commons/d/d7/Philippine-stock-market-board.jpg\" width=\"400px\" height=\"125px\" />\n",
    "\n",
    "> En la clase anterior vimos como importar datos de activos de la base de datos de Yahoo Finance usando el paquete pandas-datareader. En esta clase, veremos como pronosticar escenarios de evolución de precios, suponiendo que los rendimientos diarios se distribuyen normalmente. Como esta evolución de precios es aleatoria, utilizaremos la simulación montecarlo (hacer muchas simulaciones de escenarios de evolución de precios) para obtener probabilidades de que los precios de cierre estén encima de un valor umbral y tomar decisiones con base en estas probabilidades.\n",
    "\n",
    "**Referencias:**\n",
    "- http://pandas.pydata.org/\n",
    "- http://www.learndatasci.com/python-finance-part-yahoo-finance-api-pandas-matplotlib/"
   ]
  },
  {
   "cell_type": "markdown",
   "metadata": {},
   "source": [
    "## 1. Recordemos como descargar datos..."
   ]
  },
  {
   "cell_type": "markdown",
   "metadata": {},
   "source": [
    "Antes que nada, para poder hacer simular escenarios de predicción de precios, vamos a recordar lo que hicimos en la clase pasada de descargar los datos de Yahoo Finance, utilizando el paquete `data` de la librería `pandas_datareader`.\n",
    "\n",
    "Esta vez, utilizaremos los datos de precios de cierre ajustados de activos de la compañía Apple en el año 2016 para nuestra aplicación."
   ]
  },
  {
   "cell_type": "code",
   "execution_count": null,
   "metadata": {},
   "outputs": [],
   "source": [
    "!conda install pandas-datareader"
   ]
  },
  {
   "cell_type": "code",
   "execution_count": 1,
   "metadata": {},
   "outputs": [],
   "source": [
    "import pandas as pd\n",
    "import pandas_datareader.data as web"
   ]
  },
  {
   "cell_type": "code",
   "execution_count": 2,
   "metadata": {},
   "outputs": [],
   "source": [
    "web.DataReader?"
   ]
  },
  {
   "cell_type": "code",
   "execution_count": 3,
   "metadata": {},
   "outputs": [
    {
     "data": {
      "text/html": [
       "<div>\n",
       "<style scoped>\n",
       "    .dataframe tbody tr th:only-of-type {\n",
       "        vertical-align: middle;\n",
       "    }\n",
       "\n",
       "    .dataframe tbody tr th {\n",
       "        vertical-align: top;\n",
       "    }\n",
       "\n",
       "    .dataframe thead th {\n",
       "        text-align: right;\n",
       "    }\n",
       "</style>\n",
       "<table border=\"1\" class=\"dataframe\">\n",
       "  <thead>\n",
       "    <tr style=\"text-align: right;\">\n",
       "      <th>Symbols</th>\n",
       "      <th>TSLA</th>\n",
       "      <th>AMZN</th>\n",
       "      <th>COKE</th>\n",
       "      <th>NVDA</th>\n",
       "    </tr>\n",
       "    <tr>\n",
       "      <th>Date</th>\n",
       "      <th></th>\n",
       "      <th></th>\n",
       "      <th></th>\n",
       "      <th></th>\n",
       "    </tr>\n",
       "  </thead>\n",
       "  <tbody>\n",
       "    <tr>\n",
       "      <th>2018-01-02</th>\n",
       "      <td>64.106003</td>\n",
       "      <td>1189.010010</td>\n",
       "      <td>207.655319</td>\n",
       "      <td>49.372391</td>\n",
       "    </tr>\n",
       "    <tr>\n",
       "      <th>2018-01-03</th>\n",
       "      <td>63.450001</td>\n",
       "      <td>1204.199951</td>\n",
       "      <td>205.414474</td>\n",
       "      <td>52.621780</td>\n",
       "    </tr>\n",
       "    <tr>\n",
       "      <th>2018-01-04</th>\n",
       "      <td>62.924000</td>\n",
       "      <td>1209.589966</td>\n",
       "      <td>201.984344</td>\n",
       "      <td>52.899166</td>\n",
       "    </tr>\n",
       "    <tr>\n",
       "      <th>2018-01-05</th>\n",
       "      <td>63.316002</td>\n",
       "      <td>1229.140015</td>\n",
       "      <td>198.534576</td>\n",
       "      <td>53.347439</td>\n",
       "    </tr>\n",
       "    <tr>\n",
       "      <th>2018-01-08</th>\n",
       "      <td>67.281998</td>\n",
       "      <td>1246.869995</td>\n",
       "      <td>205.365326</td>\n",
       "      <td>54.982048</td>\n",
       "    </tr>\n",
       "  </tbody>\n",
       "</table>\n",
       "</div>"
      ],
      "text/plain": [
       "Symbols          TSLA         AMZN        COKE       NVDA\n",
       "Date                                                     \n",
       "2018-01-02  64.106003  1189.010010  207.655319  49.372391\n",
       "2018-01-03  63.450001  1204.199951  205.414474  52.621780\n",
       "2018-01-04  62.924000  1209.589966  201.984344  52.899166\n",
       "2018-01-05  63.316002  1229.140015  198.534576  53.347439\n",
       "2018-01-08  67.281998  1246.869995  205.365326  54.982048"
      ]
     },
     "execution_count": 3,
     "metadata": {},
     "output_type": "execute_result"
    }
   ],
   "source": [
    "names=['TSLA','AMZN','COKE','NVDA']\n",
    "start='01-01-2018'\n",
    "end='12-31-2021'\n",
    "def get_close(names,start,end):\n",
    "    return web.DataReader(names,'yahoo',start,end)['Adj Close']\n",
    "data=get_close(names,start,end)\n",
    "data.head()"
   ]
  },
  {
   "cell_type": "code",
   "execution_count": 4,
   "metadata": {},
   "outputs": [
    {
     "data": {
      "text/plain": [
       "<AxesSubplot:xlabel='Date'>"
      ]
     },
     "execution_count": 4,
     "metadata": {},
     "output_type": "execute_result"
    },
    {
     "data": {
      "image/png": "[encoded data removed]",
      "text/plain": [
       "<Figure size 432x288 with 1 Axes>"
      ]
     },
     "metadata": {
      "needs_background": "light"
     },
     "output_type": "display_data"
    }
   ],
   "source": [
    "data.plot(grid=True)"
   ]
  },
  {
   "cell_type": "markdown",
   "metadata": {},
   "source": [
    "## 2. Simulación de rendimientos diarios\n",
    "\n",
    "Recordemos que los precios diarios de cierre ajustados no son un proceso estocástico estacionario, pero los rendimientos diarios si lo son. Por tanto calculamos los rendimientos a partir de los precios de cierre, obtenemos sus propiedades estadísticas muestrales y proyectamos los rendimientos. Luego, obtenemos la proyección de los precios.\n",
    "\n",
    "Para una sucesión de precios $\\{S_t\\}_{t=0}^{n}$, el rendimiento simple $R_t$ se define como el cambio porcentual\n",
    "\n",
    "$$\n",
    "R_t=\\frac{S_t-S_{t-1}}{S_{t-1}}\\approx \\ln\\left(\\frac{S_t}{S_{t-1}}\\right)=r_t.\n",
    "$$\n",
    "para $t=1,\\ldots,n$.\n",
    "\n",
    "Para el ejemplo en curso, ¿cómo calcular esto?"
   ]
  },
  {
   "cell_type": "markdown",
   "metadata": {},
   "source": [
    "Además, supusimos que los rendimientos diarios eran una variable aleatoria con distribución normal (que se caracteriza con su media y varianza). Por tanto obtenemos la media y desviación estandar muestrales. Hagamos una función que retorne lo anterior."
   ]
  },
  {
   "cell_type": "code",
   "execution_count": 5,
   "metadata": {},
   "outputs": [
    {
     "data": {
      "text/html": [
       "<div>\n",
       "<style scoped>\n",
       "    .dataframe tbody tr th:only-of-type {\n",
       "        vertical-align: middle;\n",
       "    }\n",
       "\n",
       "    .dataframe tbody tr th {\n",
       "        vertical-align: top;\n",
       "    }\n",
       "\n",
       "    .dataframe thead th {\n",
       "        text-align: right;\n",
       "    }\n",
       "</style>\n",
       "<table border=\"1\" class=\"dataframe\">\n",
       "  <thead>\n",
       "    <tr style=\"text-align: right;\">\n",
       "      <th>Symbols</th>\n",
       "      <th>TSLA</th>\n",
       "      <th>AMZN</th>\n",
       "      <th>COKE</th>\n",
       "      <th>NVDA</th>\n",
       "    </tr>\n",
       "    <tr>\n",
       "      <th>Date</th>\n",
       "      <th></th>\n",
       "      <th></th>\n",
       "      <th></th>\n",
       "      <th></th>\n",
       "    </tr>\n",
       "  </thead>\n",
       "  <tbody>\n",
       "    <tr>\n",
       "      <th>2018-01-03</th>\n",
       "      <td>-0.010233</td>\n",
       "      <td>0.012775</td>\n",
       "      <td>-0.010791</td>\n",
       "      <td>0.065814</td>\n",
       "    </tr>\n",
       "    <tr>\n",
       "      <th>2018-01-04</th>\n",
       "      <td>-0.008290</td>\n",
       "      <td>0.004476</td>\n",
       "      <td>-0.016699</td>\n",
       "      <td>0.005271</td>\n",
       "    </tr>\n",
       "    <tr>\n",
       "      <th>2018-01-05</th>\n",
       "      <td>0.006230</td>\n",
       "      <td>0.016163</td>\n",
       "      <td>-0.017079</td>\n",
       "      <td>0.008474</td>\n",
       "    </tr>\n",
       "    <tr>\n",
       "      <th>2018-01-08</th>\n",
       "      <td>0.062638</td>\n",
       "      <td>0.014425</td>\n",
       "      <td>0.034406</td>\n",
       "      <td>0.030641</td>\n",
       "    </tr>\n",
       "    <tr>\n",
       "      <th>2018-01-09</th>\n",
       "      <td>-0.008085</td>\n",
       "      <td>0.004676</td>\n",
       "      <td>-0.016511</td>\n",
       "      <td>-0.000270</td>\n",
       "    </tr>\n",
       "  </tbody>\n",
       "</table>\n",
       "</div>"
      ],
      "text/plain": [
       "Symbols         TSLA      AMZN      COKE      NVDA\n",
       "Date                                              \n",
       "2018-01-03 -0.010233  0.012775 -0.010791  0.065814\n",
       "2018-01-04 -0.008290  0.004476 -0.016699  0.005271\n",
       "2018-01-05  0.006230  0.016163 -0.017079  0.008474\n",
       "2018-01-08  0.062638  0.014425  0.034406  0.030641\n",
       "2018-01-09 -0.008085  0.004676 -0.016511 -0.000270"
      ]
     },
     "execution_count": 5,
     "metadata": {},
     "output_type": "execute_result"
    }
   ],
   "source": [
    "R=data.pct_change().dropna()\n",
    "R.head()"
   ]
  },
  {
   "cell_type": "code",
   "execution_count": 6,
   "metadata": {},
   "outputs": [
    {
     "data": {
      "image/png": "[encoded data removed]",
      "text/plain": [
       "<Figure size 432x288 with 4 Axes>"
      ]
     },
     "metadata": {
      "needs_background": "light"
     },
     "output_type": "display_data"
    }
   ],
   "source": [
    "H=R.hist(bins=50)"
   ]
  },
  {
   "cell_type": "markdown",
   "metadata": {},
   "source": [
    "Entonces, suponemos que el cambio porcentual de los precios (rendimientos diarios) tiene una distribución normal.\n",
    "\n",
    "¿Cómo se caracteriza una [distribución normal](https://es.wikipedia.org/wiki/Distribuci%C3%B3n_normal)?"
   ]
  },
  {
   "cell_type": "code",
   "execution_count": 7,
   "metadata": {},
   "outputs": [
    {
     "data": {
      "text/plain": [
       "Symbols\n",
       "TSLA    0.003623\n",
       "AMZN    0.001217\n",
       "COKE    0.001389\n",
       "NVDA    0.002246\n",
       "dtype: float64"
      ]
     },
     "execution_count": 7,
     "metadata": {},
     "output_type": "execute_result"
    }
   ],
   "source": [
    "me,std=R.mean(),R.std()\n",
    "me"
   ]
  },
  {
   "cell_type": "code",
   "execution_count": 8,
   "metadata": {},
   "outputs": [
    {
     "data": {
      "text/plain": [
       "Symbols\n",
       "TSLA    0.041012\n",
       "AMZN    0.019644\n",
       "COKE    0.024595\n",
       "NVDA    0.030617\n",
       "dtype: float64"
      ]
     },
     "execution_count": 8,
     "metadata": {},
     "output_type": "execute_result"
    }
   ],
   "source": [
    "std"
   ]
  },
  {
   "cell_type": "markdown",
   "metadata": {},
   "source": [
    "Habiendo caracterizado los rendimientos diarios como una variable aleatoria normal con la media y la varianza muestral obtenida de los datos del 2018, podemos generar números aleatorios con estas características para simular el comportamiento de los precios de cierre de las acciones en el 2019 (hay un supuesto de que las cosas no cambiarán fundamentalmente).\n",
    "\n",
    "Sin embargo, cada simulación que hagamos nos conducirá a distintos resultados (los precios siguen evolucionando aleatoriamente). Entonces, lo que haremos es simular varios escenarios para así ver alguna tendencia y tomar decisiones.\n",
    "\n",
    "Hagamos una una función que simule varios escenarios de rendimientos diarios y que devuelva un dataframe con esta simulación."
   ]
  },
  {
   "cell_type": "code",
   "execution_count": 16,
   "metadata": {},
   "outputs": [],
   "source": [
    "N=10000 # Número de escenarios a simular\n",
    "d=31    # Número de días a simular"
   ]
  },
  {
   "cell_type": "code",
   "execution_count": 9,
   "metadata": {},
   "outputs": [],
   "source": [
    "pd.date_range?"
   ]
  },
  {
   "cell_type": "code",
   "execution_count": 11,
   "metadata": {},
   "outputs": [
    {
     "data": {
      "text/plain": [
       "DatetimeIndex(['2022-01-01', '2022-01-02', '2022-01-03', '2022-01-04',\n",
       "               '2022-01-05'],\n",
       "              dtype='datetime64[ns]', freq='D')"
      ]
     },
     "execution_count": 11,
     "metadata": {},
     "output_type": "execute_result"
    }
   ],
   "source": [
    "pd.date_range('01-01-2022',periods=5)"
   ]
  },
  {
   "cell_type": "code",
   "execution_count": 13,
   "metadata": {},
   "outputs": [],
   "source": [
    "import numpy as np"
   ]
  },
  {
   "cell_type": "code",
   "execution_count": 14,
   "metadata": {},
   "outputs": [],
   "source": [
    "np.random.normal?"
   ]
  },
  {
   "cell_type": "code",
   "execution_count": 15,
   "metadata": {},
   "outputs": [
    {
     "data": {
      "text/plain": [
       "array([[ 0.86266158,  1.76847235,  0.05350933,  1.34491479, -0.23924887,\n",
       "        -0.3654857 , -1.0860146 ,  0.22611835,  1.14325801, -0.10899228],\n",
       "       [ 1.01939616,  1.12184874,  0.66131221, -0.29915748,  2.33225592,\n",
       "         1.07277065,  0.98119804,  1.91669279, -0.32134869,  2.112212  ],\n",
       "       [-0.0438099 ,  1.38670138,  0.83532344,  2.73730675,  0.28235102,\n",
       "         1.54505591,  0.14424652,  1.16632357,  0.82006452,  0.69898054],\n",
       "       [ 1.52589718,  0.10315231,  1.97519444,  1.06313708,  1.7167378 ,\n",
       "         1.45102479,  0.6186264 ,  1.71031729,  0.98069608,  1.67844815],\n",
       "       [ 1.42131683,  2.14630866,  0.29963976,  1.42461039,  1.26897956,\n",
       "        -0.51935108,  0.20747493, -0.24330163,  2.08660249, -0.00399495]])"
      ]
     },
     "execution_count": 15,
     "metadata": {},
     "output_type": "execute_result"
    }
   ],
   "source": [
    "np.random.normal(1,1,(5,10)) # 5 días y 10 escenarios"
   ]
  },
  {
   "cell_type": "code",
   "execution_count": 17,
   "metadata": {},
   "outputs": [],
   "source": [
    "def simR(me,std,start,d,N):\n",
    "    fechas=pd.date_range(start,periods=d)\n",
    "    return pd.DataFrame(index=fechas,data=np.random.normal(me,std,(d,N)))\n",
    "rTSLA=simR(me['TSLA'],std['TSLA'],'01-01-2022',d,N)\n",
    "rAMZN=simR(me['AMZN'],std['AMZN'],'01-01-2022',d,N)\n",
    "rCOKE=simR(me['COKE'],std['COKE'],'01-01-2022',d,N)\n",
    "rNVDA=simR(me['NVDA'],std['NVDA'],'01-01-2022',d,N)"
   ]
  },
  {
   "cell_type": "code",
   "execution_count": 18,
   "metadata": {},
   "outputs": [
    {
     "data": {
      "text/html": [
       "<div>\n",
       "<style scoped>\n",
       "    .dataframe tbody tr th:only-of-type {\n",
       "        vertical-align: middle;\n",
       "    }\n",
       "\n",
       "    .dataframe tbody tr th {\n",
       "        vertical-align: top;\n",
       "    }\n",
       "\n",
       "    .dataframe thead th {\n",
       "        text-align: right;\n",
       "    }\n",
       "</style>\n",
       "<table border=\"1\" class=\"dataframe\">\n",
       "  <thead>\n",
       "    <tr style=\"text-align: right;\">\n",
       "      <th></th>\n",
       "      <th>0</th>\n",
       "      <th>1</th>\n",
       "      <th>2</th>\n",
       "      <th>3</th>\n",
       "      <th>4</th>\n",
       "      <th>5</th>\n",
       "      <th>6</th>\n",
       "      <th>7</th>\n",
       "      <th>8</th>\n",
       "      <th>9</th>\n",
       "      <th>...</th>\n",
       "      <th>9990</th>\n",
       "      <th>9991</th>\n",
       "      <th>9992</th>\n",
       "      <th>9993</th>\n",
       "      <th>9994</th>\n",
       "      <th>9995</th>\n",
       "      <th>9996</th>\n",
       "      <th>9997</th>\n",
       "      <th>9998</th>\n",
       "      <th>9999</th>\n",
       "    </tr>\n",
       "  </thead>\n",
       "  <tbody>\n",
       "    <tr>\n",
       "      <th>2022-01-01</th>\n",
       "      <td>-0.021055</td>\n",
       "      <td>-0.005210</td>\n",
       "      <td>0.042366</td>\n",
       "      <td>-0.039171</td>\n",
       "      <td>-0.058678</td>\n",
       "      <td>0.010234</td>\n",
       "      <td>-0.044141</td>\n",
       "      <td>-0.052557</td>\n",
       "      <td>0.024974</td>\n",
       "      <td>-0.022360</td>\n",
       "      <td>...</td>\n",
       "      <td>-0.014984</td>\n",
       "      <td>0.024860</td>\n",
       "      <td>-0.012061</td>\n",
       "      <td>-0.005511</td>\n",
       "      <td>0.038717</td>\n",
       "      <td>-0.012874</td>\n",
       "      <td>-0.022302</td>\n",
       "      <td>-0.034747</td>\n",
       "      <td>-0.045159</td>\n",
       "      <td>0.020132</td>\n",
       "    </tr>\n",
       "    <tr>\n",
       "      <th>2022-01-02</th>\n",
       "      <td>0.049486</td>\n",
       "      <td>-0.017731</td>\n",
       "      <td>-0.066200</td>\n",
       "      <td>-0.048303</td>\n",
       "      <td>0.013608</td>\n",
       "      <td>-0.029678</td>\n",
       "      <td>0.068952</td>\n",
       "      <td>0.009093</td>\n",
       "      <td>0.049121</td>\n",
       "      <td>-0.008285</td>\n",
       "      <td>...</td>\n",
       "      <td>-0.020442</td>\n",
       "      <td>-0.016511</td>\n",
       "      <td>-0.036068</td>\n",
       "      <td>0.011196</td>\n",
       "      <td>0.003579</td>\n",
       "      <td>0.034590</td>\n",
       "      <td>-0.031338</td>\n",
       "      <td>0.008221</td>\n",
       "      <td>0.021606</td>\n",
       "      <td>-0.022153</td>\n",
       "    </tr>\n",
       "    <tr>\n",
       "      <th>2022-01-03</th>\n",
       "      <td>0.001084</td>\n",
       "      <td>-0.046172</td>\n",
       "      <td>0.025424</td>\n",
       "      <td>-0.011231</td>\n",
       "      <td>0.014256</td>\n",
       "      <td>-0.004912</td>\n",
       "      <td>0.037163</td>\n",
       "      <td>-0.007147</td>\n",
       "      <td>-0.028117</td>\n",
       "      <td>0.096533</td>\n",
       "      <td>...</td>\n",
       "      <td>0.083005</td>\n",
       "      <td>-0.035501</td>\n",
       "      <td>0.039343</td>\n",
       "      <td>0.054483</td>\n",
       "      <td>0.000847</td>\n",
       "      <td>0.036265</td>\n",
       "      <td>-0.016920</td>\n",
       "      <td>-0.013891</td>\n",
       "      <td>0.039249</td>\n",
       "      <td>0.000033</td>\n",
       "    </tr>\n",
       "  </tbody>\n",
       "</table>\n",
       "<p>3 rows × 10000 columns</p>\n",
       "</div>"
      ],
      "text/plain": [
       "                0         1         2         3         4         5     \\\n",
       "2022-01-01 -0.021055 -0.005210  0.042366 -0.039171 -0.058678  0.010234   \n",
       "2022-01-02  0.049486 -0.017731 -0.066200 -0.048303  0.013608 -0.029678   \n",
       "2022-01-03  0.001084 -0.046172  0.025424 -0.011231  0.014256 -0.004912   \n",
       "\n",
       "                6         7         8         9     ...      9990      9991  \\\n",
       "2022-01-01 -0.044141 -0.052557  0.024974 -0.022360  ... -0.014984  0.024860   \n",
       "2022-01-02  0.068952  0.009093  0.049121 -0.008285  ... -0.020442 -0.016511   \n",
       "2022-01-03  0.037163 -0.007147 -0.028117  0.096533  ...  0.083005 -0.035501   \n",
       "\n",
       "                9992      9993      9994      9995      9996      9997  \\\n",
       "2022-01-01 -0.012061 -0.005511  0.038717 -0.012874 -0.022302 -0.034747   \n",
       "2022-01-02 -0.036068  0.011196  0.003579  0.034590 -0.031338  0.008221   \n",
       "2022-01-03  0.039343  0.054483  0.000847  0.036265 -0.016920 -0.013891   \n",
       "\n",
       "                9998      9999  \n",
       "2022-01-01 -0.045159  0.020132  \n",
       "2022-01-02  0.021606 -0.022153  \n",
       "2022-01-03  0.039249  0.000033  \n",
       "\n",
       "[3 rows x 10000 columns]"
      ]
     },
     "execution_count": 18,
     "metadata": {},
     "output_type": "execute_result"
    }
   ],
   "source": [
    "rTSLA.head(3)"
   ]
  },
  {
   "cell_type": "markdown",
   "metadata": {},
   "source": [
    "## 3. Proyección de precios de cierre"
   ]
  },
  {
   "cell_type": "markdown",
   "metadata": {},
   "source": [
    "Por tanto, para calcular los precios, tenemos:\n",
    "\n",
    "$$\\begin{align}\n",
    "p_i&=p_{i-1}(R_i+1)\\\\\n",
    "p_{i+1}&=p_i(R_{i+1}+1)=p_{i-1}(R_i+1)(R_{i+1}+1)\\\\\n",
    "&\\vdots\\\\\n",
    "p_{i+k}&=p_{i-1}(R_i+1)\\cdots(R_{i+k}+1).\n",
    "\\end{align}$$\n",
    "\n",
    "Si hacemos $i=0$ en la última ecuación, tenemos que $p_{k}=p_{-1}(R_0+1)\\cdots(R_{k}+1)$, donde $p_{-1}$ es el último precio reportado en el 2018."
   ]
  },
  {
   "cell_type": "markdown",
   "metadata": {},
   "source": [
    "Con los rendimientos, calculamos los precios de cierre..."
   ]
  },
  {
   "cell_type": "code",
   "execution_count": 19,
   "metadata": {},
   "outputs": [
    {
     "data": {
      "text/plain": [
       "Symbols\n",
       "TSLA    1056.780029\n",
       "AMZN    3334.340088\n",
       "COKE     618.925354\n",
       "NVDA     294.059875\n",
       "Name: 2021-12-31 00:00:00, dtype: float64"
      ]
     },
     "execution_count": 19,
     "metadata": {},
     "output_type": "execute_result"
    }
   ],
   "source": [
    "data.iloc[-1]"
   ]
  },
  {
   "cell_type": "code",
   "execution_count": 20,
   "metadata": {},
   "outputs": [
    {
     "data": {
      "text/html": [
       "<div>\n",
       "<style scoped>\n",
       "    .dataframe tbody tr th:only-of-type {\n",
       "        vertical-align: middle;\n",
       "    }\n",
       "\n",
       "    .dataframe tbody tr th {\n",
       "        vertical-align: top;\n",
       "    }\n",
       "\n",
       "    .dataframe thead th {\n",
       "        text-align: right;\n",
       "    }\n",
       "</style>\n",
       "<table border=\"1\" class=\"dataframe\">\n",
       "  <thead>\n",
       "    <tr style=\"text-align: right;\">\n",
       "      <th></th>\n",
       "      <th>0</th>\n",
       "      <th>1</th>\n",
       "      <th>2</th>\n",
       "      <th>3</th>\n",
       "      <th>4</th>\n",
       "      <th>5</th>\n",
       "      <th>6</th>\n",
       "      <th>7</th>\n",
       "      <th>8</th>\n",
       "      <th>9</th>\n",
       "      <th>...</th>\n",
       "      <th>9990</th>\n",
       "      <th>9991</th>\n",
       "      <th>9992</th>\n",
       "      <th>9993</th>\n",
       "      <th>9994</th>\n",
       "      <th>9995</th>\n",
       "      <th>9996</th>\n",
       "      <th>9997</th>\n",
       "      <th>9998</th>\n",
       "      <th>9999</th>\n",
       "    </tr>\n",
       "  </thead>\n",
       "  <tbody>\n",
       "    <tr>\n",
       "      <th>2022-01-01</th>\n",
       "      <td>1034.529420</td>\n",
       "      <td>1051.273809</td>\n",
       "      <td>1101.551669</td>\n",
       "      <td>1015.384872</td>\n",
       "      <td>994.769894</td>\n",
       "      <td>1067.594603</td>\n",
       "      <td>1010.132177</td>\n",
       "      <td>1001.238662</td>\n",
       "      <td>1083.171747</td>\n",
       "      <td>1033.150190</td>\n",
       "      <td>...</td>\n",
       "      <td>1040.945756</td>\n",
       "      <td>1083.051884</td>\n",
       "      <td>1044.034585</td>\n",
       "      <td>1050.956125</td>\n",
       "      <td>1097.694873</td>\n",
       "      <td>1043.175277</td>\n",
       "      <td>1033.211956</td>\n",
       "      <td>1020.060161</td>\n",
       "      <td>1009.057149</td>\n",
       "      <td>1078.055318</td>\n",
       "    </tr>\n",
       "    <tr>\n",
       "      <th>2022-01-02</th>\n",
       "      <td>1085.723911</td>\n",
       "      <td>1032.633704</td>\n",
       "      <td>1028.629388</td>\n",
       "      <td>966.339099</td>\n",
       "      <td>1008.306417</td>\n",
       "      <td>1035.910490</td>\n",
       "      <td>1079.782439</td>\n",
       "      <td>1010.343068</td>\n",
       "      <td>1136.378570</td>\n",
       "      <td>1024.590300</td>\n",
       "      <td>...</td>\n",
       "      <td>1019.666877</td>\n",
       "      <td>1065.169389</td>\n",
       "      <td>1006.378610</td>\n",
       "      <td>1062.722602</td>\n",
       "      <td>1101.624045</td>\n",
       "      <td>1079.258999</td>\n",
       "      <td>1000.833087</td>\n",
       "      <td>1028.445752</td>\n",
       "      <td>1030.859212</td>\n",
       "      <td>1054.173351</td>\n",
       "    </tr>\n",
       "    <tr>\n",
       "      <th>2022-01-03</th>\n",
       "      <td>1086.900668</td>\n",
       "      <td>984.955170</td>\n",
       "      <td>1054.781189</td>\n",
       "      <td>955.485934</td>\n",
       "      <td>1022.681219</td>\n",
       "      <td>1030.822415</td>\n",
       "      <td>1119.910855</td>\n",
       "      <td>1003.121806</td>\n",
       "      <td>1104.427357</td>\n",
       "      <td>1123.497153</td>\n",
       "      <td>...</td>\n",
       "      <td>1104.303989</td>\n",
       "      <td>1027.354515</td>\n",
       "      <td>1045.972249</td>\n",
       "      <td>1120.622536</td>\n",
       "      <td>1102.557419</td>\n",
       "      <td>1118.397969</td>\n",
       "      <td>983.898687</td>\n",
       "      <td>1014.159787</td>\n",
       "      <td>1071.319509</td>\n",
       "      <td>1054.208477</td>\n",
       "    </tr>\n",
       "  </tbody>\n",
       "</table>\n",
       "<p>3 rows × 10000 columns</p>\n",
       "</div>"
      ],
      "text/plain": [
       "                   0            1            2            3            4     \\\n",
       "2022-01-01  1034.529420  1051.273809  1101.551669  1015.384872   994.769894   \n",
       "2022-01-02  1085.723911  1032.633704  1028.629388   966.339099  1008.306417   \n",
       "2022-01-03  1086.900668   984.955170  1054.781189   955.485934  1022.681219   \n",
       "\n",
       "                   5            6            7            8            9     \\\n",
       "2022-01-01  1067.594603  1010.132177  1001.238662  1083.171747  1033.150190   \n",
       "2022-01-02  1035.910490  1079.782439  1010.343068  1136.378570  1024.590300   \n",
       "2022-01-03  1030.822415  1119.910855  1003.121806  1104.427357  1123.497153   \n",
       "\n",
       "            ...         9990         9991         9992         9993  \\\n",
       "2022-01-01  ...  1040.945756  1083.051884  1044.034585  1050.956125   \n",
       "2022-01-02  ...  1019.666877  1065.169389  1006.378610  1062.722602   \n",
       "2022-01-03  ...  1104.303989  1027.354515  1045.972249  1120.622536   \n",
       "\n",
       "                   9994         9995         9996         9997         9998  \\\n",
       "2022-01-01  1097.694873  1043.175277  1033.211956  1020.060161  1009.057149   \n",
       "2022-01-02  1101.624045  1079.258999  1000.833087  1028.445752  1030.859212   \n",
       "2022-01-03  1102.557419  1118.397969   983.898687  1014.159787  1071.319509   \n",
       "\n",
       "                   9999  \n",
       "2022-01-01  1078.055318  \n",
       "2022-01-02  1054.173351  \n",
       "2022-01-03  1054.208477  \n",
       "\n",
       "[3 rows x 10000 columns]"
      ]
     },
     "execution_count": 20,
     "metadata": {},
     "output_type": "execute_result"
    }
   ],
   "source": [
    "TSLA=data['TSLA'].iloc[-1]*(rTSLA+1).cumprod()\n",
    "TSLA.head(3)"
   ]
  },
  {
   "cell_type": "code",
   "execution_count": 21,
   "metadata": {},
   "outputs": [],
   "source": [
    "AMZN=data['AMZN'].iloc[-1]*(rAMZN+1).cumprod()\n",
    "COKE=data['COKE'].iloc[-1]*(rCOKE+1).cumprod()\n",
    "NVDA=data['NVDA'].iloc[-1]*(rNVDA+1).cumprod()"
   ]
  },
  {
   "cell_type": "markdown",
   "metadata": {},
   "source": [
    "## 4. Probabilidad Precio-Umbral\n",
    "\n",
    "Ya que tenemos muchos escenarios de precios proyectados, podemos ver varias cosas. Por ejemplo, ¿cuál es la probabilidad de que el precio de cierre sobrepase algún valor umbral en algún momento?"
   ]
  },
  {
   "cell_type": "code",
   "execution_count": 24,
   "metadata": {},
   "outputs": [],
   "source": [
    "import matplotlib.pyplot as plt"
   ]
  },
  {
   "cell_type": "code",
   "execution_count": 31,
   "metadata": {},
   "outputs": [],
   "source": [
    "UTSLA=data['TSLA'][-1]*1.1   # Umbral para TSLA"
   ]
  },
  {
   "cell_type": "code",
   "execution_count": 32,
   "metadata": {},
   "outputs": [
    {
     "data": {
      "text/plain": [
       "1162.4580322265626"
      ]
     },
     "execution_count": 32,
     "metadata": {},
     "output_type": "execute_result"
    }
   ],
   "source": [
    "UTSLA"
   ]
  },
  {
   "cell_type": "code",
   "execution_count": 26,
   "metadata": {},
   "outputs": [
    {
     "data": {
      "image/png": "[encoded data removed]",
      "text/plain": [
       "<Figure size 432x288 with 1 Axes>"
      ]
     },
     "metadata": {
      "needs_background": "light"
     },
     "output_type": "display_data"
    }
   ],
   "source": [
    "for i in range(N):\n",
    "    plt.scatter(range(31),TSLA[i],s=3)\n",
    "plt.grid()"
   ]
  },
  {
   "cell_type": "code",
   "execution_count": 33,
   "metadata": {},
   "outputs": [
    {
     "data": {
      "text/plain": [
       "<AxesSubplot:>"
      ]
     },
     "execution_count": 33,
     "metadata": {},
     "output_type": "execute_result"
    },
    {
     "data": {
      "image/png": "[encoded data removed]",
      "text/plain": [
       "<Figure size 432x288 with 1 Axes>"
      ]
     },
     "metadata": {
      "needs_background": "light"
     },
     "output_type": "display_data"
    }
   ],
   "source": [
    "BTSLA=TSLA>UTSLA         # Variable de Bernoulli\n",
    "PTSLA=BTSLA.mean(axis=1) # Probabilidad de que supere el Umbral\n",
    "PTSLA.plot(grid=True)"
   ]
  },
  {
   "cell_type": "code",
   "execution_count": 34,
   "metadata": {},
   "outputs": [
    {
     "data": {
      "text/plain": [
       "<AxesSubplot:>"
      ]
     },
     "execution_count": 34,
     "metadata": {},
     "output_type": "execute_result"
    },
    {
     "data": {
      "image/png": "[encoded data removed]",
      "text/plain": [
       "<Figure size 432x288 with 1 Axes>"
      ]
     },
     "metadata": {
      "needs_background": "light"
     },
     "output_type": "display_data"
    }
   ],
   "source": [
    "UAMZN=data['AMZN'][-1]*1.1   # Umbral\n",
    "BAMZN=AMZN>UAMZN        # Variable de Bernoulli\n",
    "PAMZN=BAMZN.mean(axis=1) # Probabilidad\n",
    "PAMZN.plot(grid=True)"
   ]
  },
  {
   "cell_type": "code",
   "execution_count": 35,
   "metadata": {},
   "outputs": [
    {
     "data": {
      "text/plain": [
       "<AxesSubplot:>"
      ]
     },
     "execution_count": 35,
     "metadata": {},
     "output_type": "execute_result"
    },
    {
     "data": {
      "image/png": "[encoded data removed]",
      "text/plain": [
       "<Figure size 432x288 with 1 Axes>"
      ]
     },
     "metadata": {
      "needs_background": "light"
     },
     "output_type": "display_data"
    }
   ],
   "source": [
    "UCOKE=data['COKE'][-1]*1.1   # Umbral\n",
    "BCOKE=COKE>UCOKE        # Variable de Bernoulli\n",
    "PCOKE=BCOKE.mean(axis=1) # Probabilidad\n",
    "PCOKE.plot(grid=True)"
   ]
  },
  {
   "cell_type": "code",
   "execution_count": 36,
   "metadata": {},
   "outputs": [
    {
     "data": {
      "text/plain": [
       "<AxesSubplot:>"
      ]
     },
     "execution_count": 36,
     "metadata": {},
     "output_type": "execute_result"
    },
    {
     "data": {
      "image/png": "[encoded data removed]",
      "text/plain": [
       "<Figure size 432x288 with 1 Axes>"
      ]
     },
     "metadata": {
      "needs_background": "light"
     },
     "output_type": "display_data"
    }
   ],
   "source": [
    "UNVDA=data['NVDA'][-1]*1.1   # Umbral\n",
    "BNVDA=NVDA>UNVDA        # Variable de Bernoulli\n",
    "PNVDA=BNVDA.mean(axis=1) # Probabilidad\n",
    "PNVDA.plot(grid=True)"
   ]
  },
  {
   "cell_type": "markdown",
   "metadata": {},
   "source": [
    "___\n",
    "Entonces, ya aprendimos a bajar datos con pandas-datareader. En específico, a partir de los precios de cierre ajustados obtuvimos los rendimientos diarios.\n",
    "\n",
    "Suponiendo que los rendimientos diarios son un proceso estocástico estacionario de distribución normal, pudimos caracaterizarlo y proyectar varios escenarios de evolución de los precios (montecarlo).\n",
    "\n",
    "Con estas proyecciones pudimos calcular probabilidades de sobrepasar cierto precio umbral: toma de decisiones."
   ]
  }
 ],
 "metadata": {
  "kernelspec": {
   "display_name": "Python 3",
   "language": "python",
   "name": "python3"
  },
  "language_info": {
   "codemirror_mode": {
    "name": "ipython",
    "version": 3
   },
   "file_extension": ".py",
   "mimetype": "text/x-python",
   "name": "python",
   "nbconvert_exporter": "python",
   "pygments_lexer": "ipython3",
   "version": "3.8.8"
  }
 },
 "nbformat": 4,
 "nbformat_minor": 2
}
